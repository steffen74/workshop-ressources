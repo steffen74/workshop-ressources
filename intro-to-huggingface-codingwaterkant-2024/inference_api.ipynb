{
 "cells": [
  {
   "cell_type": "code",
   "execution_count": 15,
   "metadata": {},
   "outputs": [
    {
     "name": "stdout",
     "output_type": "stream",
     "text": [
      "Transcription:  The stale smell of old beer lingers. It takes heat to bring out the odor. A cold dip restores health and zest. A salt pickle tastes fine with ham. Tacos al pastor are my favorite. A zestful food is the hot cross bun.\n"
     ]
    }
   ],
   "source": [
    "import os\n",
    "import requests\n",
    "from google.colab import userdata\n",
    "\n",
    "#########################\n",
    "# Your Hugging Face API key\n",
    "\n",
    "# Imported from a Colab environment\n",
    "HF_API_KEY = userdata.get('HF_API_KEY')\n",
    "\n",
    "# Imported from a local environment\n",
    "# HF_API_KEY = os.getenv('HF_API_KEY')\n",
    "\n",
    "# If key is null stop and print a console log\n",
    "if HF_API_KEY is None:\n",
    "    print(\"Hugging Face API key not found.\")\n",
    "    exit()\n",
    "\n",
    "#########################\n",
    "# The API URL for the Whisper model\n",
    "API_URL = \"https://api-inference.huggingface.co/models/openai/whisper-large\"\n",
    "\n",
    "# Function to transcribe audio\n",
    "def transcribe_audio(audio_path):\n",
    "    with open(audio_path, 'rb') as audio_file:\n",
    "        headers = {\"Authorization\": f\"Bearer {HF_API_KEY}\"}\n",
    "        data = audio_file.read()\n",
    "        response = requests.request(\"POST\", API_URL, headers=headers, data=data)\n",
    "        \n",
    "        if response.status_code == 200:\n",
    "            try:\n",
    "                # Attempt to parse the response as JSON\n",
    "                response_json = response.json()\n",
    "                return response_json\n",
    "            except ValueError:\n",
    "                # If response is not in JSON format, return as text\n",
    "                return {\"error\": \"Response not in JSON format\", \"text\": response.text}\n",
    "        else:\n",
    "            # Return error status and text for non-200 responses\n",
    "            return {\"error\": f\"HTTP Error {response.status_code}\", \"text\": response.text}\n",
    "\n",
    "# Path to your audio file (e.g., mp3 or wav')\n",
    "audio_file_path = 'sample.wav'\n",
    "\n",
    "# Call the function and print the transcription\n",
    "transcription = transcribe_audio(audio_file_path)\n",
    "print(\"Transcription:\", transcription['text'])\n"
   ]
  }
 ],
 "metadata": {
  "kernelspec": {
   "display_name": "Python 3",
   "language": "python",
   "name": "python3"
  },
  "language_info": {
   "codemirror_mode": {
    "name": "ipython",
    "version": 3
   },
   "file_extension": ".py",
   "mimetype": "text/x-python",
   "name": "python",
   "nbconvert_exporter": "python",
   "pygments_lexer": "ipython3",
   "version": "3.10.12"
  }
 },
 "nbformat": 4,
 "nbformat_minor": 2
}
